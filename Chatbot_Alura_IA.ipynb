{
  "nbformat": 4,
  "nbformat_minor": 0,
  "metadata": {
    "colab": {
      "provenance": [],
      "authorship_tag": "ABX9TyM665xI2ErbycrE6pvvfIIU",
      "include_colab_link": true
    },
    "kernelspec": {
      "name": "python3",
      "display_name": "Python 3"
    },
    "language_info": {
      "name": "python"
    }
  },
  "cells": [
    {
      "cell_type": "markdown",
      "metadata": {
        "id": "view-in-github",
        "colab_type": "text"
      },
      "source": [
        "<a href=\"https://colab.research.google.com/github/TiagoRosa/chatIAAlura/blob/main/Chatbot_Alura_IA.ipynb\" target=\"_parent\"><img src=\"https://colab.research.google.com/assets/colab-badge.svg\" alt=\"Open In Colab\"/></a>"
      ]
    },
    {
      "cell_type": "code",
      "execution_count": 1,
      "metadata": {
        "id": "cKkM3iP5dcDr"
      },
      "outputs": [],
      "source": [
        "!pip install -q -U google-generativeai"
      ]
    },
    {
      "cell_type": "code",
      "source": [
        "# Import the Python SDK\n",
        "import google.generativeai as genai\n",
        "\n",
        "GOOGLE_API_KEY='Cole aqui o seu api key do google'\n",
        "genai.configure(api_key=GOOGLE_API_KEY)"
      ],
      "metadata": {
        "id": "PXYNmrhAgoNT"
      },
      "execution_count": 2,
      "outputs": []
    },
    {
      "cell_type": "markdown",
      "source": [
        "listar os modelos disponiveis"
      ],
      "metadata": {
        "id": "8qx0alUlgu5g"
      }
    },
    {
      "cell_type": "code",
      "source": [
        "for models in genai.list_models():\n",
        "  if 'generateContent' in models.supported_generation_methods:\n",
        "    print(models.name)"
      ],
      "metadata": {
        "colab": {
          "base_uri": "https://localhost:8080/",
          "height": 139
        },
        "id": "cdP-91P3grp7",
        "outputId": "c56edae5-603f-4539-b8ec-463fd6575173"
      },
      "execution_count": 3,
      "outputs": [
        {
          "output_type": "stream",
          "name": "stdout",
          "text": [
            "models/gemini-1.0-pro\n",
            "models/gemini-1.0-pro-001\n",
            "models/gemini-1.0-pro-latest\n",
            "models/gemini-1.0-pro-vision-latest\n",
            "models/gemini-1.5-pro-latest\n",
            "models/gemini-pro\n",
            "models/gemini-pro-vision\n"
          ]
        }
      ]
    },
    {
      "cell_type": "markdown",
      "source": [
        "Parametrização do modelo IA"
      ],
      "metadata": {
        "id": "-am6T5t6i44x"
      }
    },
    {
      "cell_type": "code",
      "source": [
        "generation_config={\n",
        "    'candidate_count': 1,\n",
        "    'temperature': 0.5\n",
        "}"
      ],
      "metadata": {
        "id": "Qwz_XiCih6HB"
      },
      "execution_count": 4,
      "outputs": []
    },
    {
      "cell_type": "code",
      "source": [
        "safety_settings = {\n",
        "    'Harassment':'block_none',\n",
        "    'Hate':'block_none',\n",
        "    'Sexual':'block_none',\n",
        "    'Dangerous':'block_none',\n",
        "}"
      ],
      "metadata": {
        "id": "ZnnR0XKaiUdI"
      },
      "execution_count": 5,
      "outputs": []
    },
    {
      "cell_type": "markdown",
      "source": [
        "Inicializar o modelo"
      ],
      "metadata": {
        "id": "ooBjDlerjHcG"
      }
    },
    {
      "cell_type": "code",
      "source": [
        "model = genai.GenerativeModel(model_name='gemini-1.0-pro',\n",
        "                                  generation_config=generation_config,\n",
        "                                  safety_settings=safety_settings)"
      ],
      "metadata": {
        "id": "YrDLTB6AjJIZ"
      },
      "execution_count": 8,
      "outputs": []
    },
    {
      "cell_type": "code",
      "source": [
        "response = model.generate_content(\"vamos aprender conteudo sobre IA, Me de Sugestoes\")\n",
        "print(response.text)"
      ],
      "metadata": {
        "colab": {
          "base_uri": "https://localhost:8080/",
          "height": 783
        },
        "id": "O_cFnH_ij3l_",
        "outputId": "4dd069c1-0a6a-4923-ce73-b9649cd0487d"
      },
      "execution_count": 10,
      "outputs": [
        {
          "output_type": "stream",
          "name": "stdout",
          "text": [
            "**Conceitos Fundamentais**\n",
            "\n",
            "* O que é Inteligência Artificial (IA)?\n",
            "* Tipos de IA: IA estreita, IA geral e superinteligência\n",
            "* Aprendizado de máquina, aprendizado profundo e redes neurais\n",
            "* Processamento de linguagem natural (PNL)\n",
            "* Visão computacional\n",
            "\n",
            "**Aplicações da IA**\n",
            "\n",
            "* Automação de tarefas\n",
            "* Análise de dados e insights\n",
            "* Reconhecimento de padrões e previsão\n",
            "* Atendimento ao cliente e chatbots\n",
            "* Veículos autônomos e robótica\n",
            "\n",
            "**Ética e Implicações da IA**\n",
            "\n",
            "* Viés e discriminação em algoritmos de IA\n",
            "* Privacidade e segurança de dados\n",
            "* O futuro do trabalho e o impacto da IA no emprego\n",
            "* Regulamentações e políticas éticas para IA\n",
            "\n",
            "**Técnicas e Ferramentas de IA**\n",
            "\n",
            "* Bibliotecas e frameworks de aprendizado de máquina (por exemplo, TensorFlow, PyTorch)\n",
            "* Ferramentas de processamento de linguagem natural (por exemplo, spaCy, NLTK)\n",
            "* Plataformas de visão computacional (por exemplo, OpenCV, Keras)\n",
            "* Serviços de nuvem para IA (por exemplo, AWS AI, Azure AI)\n",
            "\n",
            "**Tendências e Avanços**\n",
            "\n",
            "* IA generativa (por exemplo, modelos de linguagem grandes, arte gerada por IA)\n",
            "* IA quântica e computação quântica\n",
            "* IA de borda e dispositivos inteligentes\n",
            "* IA para o bem social e sustentabilidade\n",
            "\n",
            "**Recursos Adicionais**\n",
            "\n",
            "* **Cursos Online:** Coursera, edX, Udemy\n",
            "* **Livros:** \"Inteligência Artificial: Uma abordagem moderna\" por Stuart Russell e Peter Norvig, \"Aprendizado Profundo\" por Ian Goodfellow, Yoshua Bengio e Aaron Courville\n",
            "* **Artigos de Pesquisa:** arXiv, Google Scholar, ACM Digital Library\n",
            "* **Conferências e Eventos:** NeurIPS, ICML, CVPR\n"
          ]
        }
      ]
    },
    {
      "cell_type": "code",
      "source": [
        "chat = model.start_chat(history=[])"
      ],
      "metadata": {
        "id": "HS1qg4ClkITf"
      },
      "execution_count": 11,
      "outputs": []
    },
    {
      "cell_type": "code",
      "source": [
        "prompt = input(\"Esperando prompt: \")\n",
        "while prompt != \"fim\":\n",
        "  response = chat.send_message(prompt)\n",
        "  print('Resposta: ', response.text, '\\n')\n",
        "  prompt = input(\"Esperando prompt: \")"
      ],
      "metadata": {
        "colab": {
          "base_uri": "https://localhost:8080/",
          "height": 662
        },
        "id": "kl3Vd420kZkP",
        "outputId": "2d332144-f4f2-4ca5-c912-287176305f1d"
      },
      "execution_count": 13,
      "outputs": [
        {
          "name": "stdout",
          "output_type": "stream",
          "text": [
            "Esperando prompt: Qual a capital do canada\n",
            "Resposta:  Ottawa \n",
            "\n",
            "Esperando prompt: qual a comida principal desse pais\n",
            "Resposta:  Poutine \n",
            "\n",
            "Esperando prompt: me informe a receita dessa receita\n",
            "Resposta:  **Ingredientes:**\n",
            "\n",
            "* 1 kg de batatas Russet\n",
            "* 1 litro de óleo vegetal\n",
            "* 1 xícara de queijo cheddar ralado\n",
            "* 1/2 xícara de molho de carne\n",
            "* Sal e pimenta a gosto\n",
            "\n",
            "**Instruções:**\n",
            "\n",
            "1. Descasque e corte as batatas em palitos de 1 cm de espessura e 7 cm de comprimento.\n",
            "2. Enxágue bem as batatas em água fria para remover o excesso de amido.\n",
            "3. Seque as batatas com papel toalha.\n",
            "4. Aqueça o óleo vegetal em uma panela grande ou fritadeira a 175°C.\n",
            "5. Frite as batatas em lotes até que fiquem douradas e crocantes, cerca de 3-4 minutos.\n",
            "6. Retire as batatas do óleo e escorra em papel toalha.\n",
            "7. Tempere as batatas com sal e pimenta a gosto.\n",
            "8. Coloque as batatas em uma tigela e cubra com o queijo cheddar ralado.\n",
            "9. Despeje o molho de carne sobre as batatas e queijo.\n",
            "10. Misture bem para combinar.\n",
            "11. Sirva imediatamente.\n",
            "\n",
            "**Dicas:**\n",
            "\n",
            "* Para um molho de carne caseiro, refogue 1 cebola picada e 1 dente de alho picado em uma panela até ficarem macios. Adicione 500g de carne moída e cozinhe até dourar. Tempere com sal, pimenta e seus temperos favoritos. Adicione 1 xícara de caldo de carne e deixe ferver até engrossar.\n",
            "* Você pode usar qualquer queijo que preferir, mas o cheddar é o tradicional para poutine.\n",
            "* Sirva a poutine com acompanhamentos opcionais, como ketchup, mostarda ou picles. \n",
            "\n",
            "Esperando prompt: fim\n"
          ]
        }
      ]
    },
    {
      "cell_type": "code",
      "source": [
        "chat.history"
      ],
      "metadata": {
        "colab": {
          "base_uri": "https://localhost:8080/"
        },
        "id": "09FpNnkOljP4",
        "outputId": "eceb81b1-ef27-4567-a78d-9f4967099d78"
      },
      "execution_count": 15,
      "outputs": [
        {
          "output_type": "execute_result",
          "data": {
            "text/plain": [
              "[parts {\n",
              "   text: \"Qual a capital do canada\"\n",
              " }\n",
              " role: \"user\",\n",
              " parts {\n",
              "   text: \"Ottawa\"\n",
              " }\n",
              " role: \"model\",\n",
              " parts {\n",
              "   text: \"qual a comida principal desse pais\"\n",
              " }\n",
              " role: \"user\",\n",
              " parts {\n",
              "   text: \"Poutine\"\n",
              " }\n",
              " role: \"model\",\n",
              " parts {\n",
              "   text: \"me informe a receita dessa receita\"\n",
              " }\n",
              " role: \"user\",\n",
              " parts {\n",
              "   text: \"**Ingredientes:**\\n\\n* 1 kg de batatas Russet\\n* 1 litro de \\303\\263leo vegetal\\n* 1 x\\303\\255cara de queijo cheddar ralado\\n* 1/2 x\\303\\255cara de molho de carne\\n* Sal e pimenta a gosto\\n\\n**Instru\\303\\247\\303\\265es:**\\n\\n1. Descasque e corte as batatas em palitos de 1 cm de espessura e 7 cm de comprimento.\\n2. Enx\\303\\241gue bem as batatas em \\303\\241gua fria para remover o excesso de amido.\\n3. Seque as batatas com papel toalha.\\n4. Aque\\303\\247a o \\303\\263leo vegetal em uma panela grande ou fritadeira a 175\\302\\260C.\\n5. Frite as batatas em lotes at\\303\\251 que fiquem douradas e crocantes, cerca de 3-4 minutos.\\n6. Retire as batatas do \\303\\263leo e escorra em papel toalha.\\n7. Tempere as batatas com sal e pimenta a gosto.\\n8. Coloque as batatas em uma tigela e cubra com o queijo cheddar ralado.\\n9. Despeje o molho de carne sobre as batatas e queijo.\\n10. Misture bem para combinar.\\n11. Sirva imediatamente.\\n\\n**Dicas:**\\n\\n* Para um molho de carne caseiro, refogue 1 cebola picada e 1 dente de alho picado em uma panela at\\303\\251 ficarem macios. Adicione 500g de carne mo\\303\\255da e cozinhe at\\303\\251 dourar. Tempere com sal, pimenta e seus temperos favoritos. Adicione 1 x\\303\\255cara de caldo de carne e deixe ferver at\\303\\251 engrossar.\\n* Voc\\303\\252 pode usar qualquer queijo que preferir, mas o cheddar \\303\\251 o tradicional para poutine.\\n* Sirva a poutine com acompanhamentos opcionais, como ketchup, mostarda ou picles.\"\n",
              " }\n",
              " role: \"model\"]"
            ]
          },
          "metadata": {},
          "execution_count": 15
        }
      ]
    },
    {
      "cell_type": "code",
      "source": [
        "#Melhorando a visualização\n",
        "#Código disponível em https://ai.google.dev/tutorials/python_quickstart#import_packages\n",
        "import textwrap\n",
        "from IPython.display import display\n",
        "from IPython.display import Markdown\n",
        "\n",
        "def to_markdown(text):\n",
        "  text = text.replace('*', '`*`')\n",
        "  return Markdown(textwrap.indent(text, '  '))\n",
        "\n",
        "#Imprimindo o histórico\n",
        "for message in chat.history:\n",
        "  display(to_markdown(f'**{message.role}:** {message.parts[0].text}'))\n",
        "  print('')"
      ],
      "metadata": {
        "colab": {
          "base_uri": "https://localhost:8080/",
          "height": 733
        },
        "id": "2udQSVwFmCKa",
        "outputId": "72b91976-5020-4060-c4c4-eae2f326fe10"
      },
      "execution_count": 16,
      "outputs": [
        {
          "output_type": "display_data",
          "data": {
            "text/plain": [
              "<IPython.core.display.Markdown object>"
            ],
            "text/markdown": "  `*``*`user:`*``*` Qual a capital do canada"
          },
          "metadata": {}
        },
        {
          "output_type": "stream",
          "name": "stdout",
          "text": [
            "\n"
          ]
        },
        {
          "output_type": "display_data",
          "data": {
            "text/plain": [
              "<IPython.core.display.Markdown object>"
            ],
            "text/markdown": "  `*``*`model:`*``*` Ottawa"
          },
          "metadata": {}
        },
        {
          "output_type": "stream",
          "name": "stdout",
          "text": [
            "\n"
          ]
        },
        {
          "output_type": "display_data",
          "data": {
            "text/plain": [
              "<IPython.core.display.Markdown object>"
            ],
            "text/markdown": "  `*``*`user:`*``*` qual a comida principal desse pais"
          },
          "metadata": {}
        },
        {
          "output_type": "stream",
          "name": "stdout",
          "text": [
            "\n"
          ]
        },
        {
          "output_type": "display_data",
          "data": {
            "text/plain": [
              "<IPython.core.display.Markdown object>"
            ],
            "text/markdown": "  `*``*`model:`*``*` Poutine"
          },
          "metadata": {}
        },
        {
          "output_type": "stream",
          "name": "stdout",
          "text": [
            "\n"
          ]
        },
        {
          "output_type": "display_data",
          "data": {
            "text/plain": [
              "<IPython.core.display.Markdown object>"
            ],
            "text/markdown": "  `*``*`user:`*``*` me informe a receita dessa receita"
          },
          "metadata": {}
        },
        {
          "output_type": "stream",
          "name": "stdout",
          "text": [
            "\n"
          ]
        },
        {
          "output_type": "display_data",
          "data": {
            "text/plain": [
              "<IPython.core.display.Markdown object>"
            ],
            "text/markdown": "  `*``*`model:`*``*` `*``*`Ingredientes:`*``*`\n\n  `*` 1 kg de batatas Russet\n  `*` 1 litro de óleo vegetal\n  `*` 1 xícara de queijo cheddar ralado\n  `*` 1/2 xícara de molho de carne\n  `*` Sal e pimenta a gosto\n\n  `*``*`Instruções:`*``*`\n\n  1. Descasque e corte as batatas em palitos de 1 cm de espessura e 7 cm de comprimento.\n  2. Enxágue bem as batatas em água fria para remover o excesso de amido.\n  3. Seque as batatas com papel toalha.\n  4. Aqueça o óleo vegetal em uma panela grande ou fritadeira a 175°C.\n  5. Frite as batatas em lotes até que fiquem douradas e crocantes, cerca de 3-4 minutos.\n  6. Retire as batatas do óleo e escorra em papel toalha.\n  7. Tempere as batatas com sal e pimenta a gosto.\n  8. Coloque as batatas em uma tigela e cubra com o queijo cheddar ralado.\n  9. Despeje o molho de carne sobre as batatas e queijo.\n  10. Misture bem para combinar.\n  11. Sirva imediatamente.\n\n  `*``*`Dicas:`*``*`\n\n  `*` Para um molho de carne caseiro, refogue 1 cebola picada e 1 dente de alho picado em uma panela até ficarem macios. Adicione 500g de carne moída e cozinhe até dourar. Tempere com sal, pimenta e seus temperos favoritos. Adicione 1 xícara de caldo de carne e deixe ferver até engrossar.\n  `*` Você pode usar qualquer queijo que preferir, mas o cheddar é o tradicional para poutine.\n  `*` Sirva a poutine com acompanhamentos opcionais, como ketchup, mostarda ou picles."
          },
          "metadata": {}
        },
        {
          "output_type": "stream",
          "name": "stdout",
          "text": [
            "\n"
          ]
        }
      ]
    }
  ]
}